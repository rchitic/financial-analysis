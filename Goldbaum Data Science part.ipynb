{
 "cells": [
  {
   "cell_type": "code",
   "execution_count": 1,
   "metadata": {},
   "outputs": [],
   "source": [
    "import numpy as np\n",
    "import pandas as pd\n",
    "import matplotlib.pyplot as plt"
   ]
  },
  {
   "cell_type": "markdown",
   "metadata": {},
   "source": [
    "**Steps 1 & 2**"
   ]
  },
  {
   "cell_type": "code",
   "execution_count": 2,
   "metadata": {},
   "outputs": [],
   "source": [
    "# Import data for 9 different robo-advisors\n",
    "# Dataframe contains collected data on the return, risk, management fee and assets under management of each robo-advisor\n",
    "\n",
    "data = pd.read_csv('robo-advisors.csv', index_col = 'Robo-advisor')[:9]"
   ]
  },
  {
   "cell_type": "code",
   "execution_count": 9,
   "metadata": {},
   "outputs": [
    {
     "data": {
      "text/html": [
       "<div>\n",
       "<style scoped>\n",
       "    .dataframe tbody tr th:only-of-type {\n",
       "        vertical-align: middle;\n",
       "    }\n",
       "\n",
       "    .dataframe tbody tr th {\n",
       "        vertical-align: top;\n",
       "    }\n",
       "\n",
       "    .dataframe thead th {\n",
       "        text-align: right;\n",
       "    }\n",
       "</style>\n",
       "<table border=\"1\" class=\"dataframe\">\n",
       "  <thead>\n",
       "    <tr style=\"text-align: right;\">\n",
       "      <th></th>\n",
       "      <th>Return (%)</th>\n",
       "      <th>Standard dev (%)</th>\n",
       "      <th>Management fee (%)</th>\n",
       "      <th>AUM ($ billions)</th>\n",
       "      <th>Net risk-adjusted return</th>\n",
       "    </tr>\n",
       "    <tr>\n",
       "      <th>Robo-advisor</th>\n",
       "      <th></th>\n",
       "      <th></th>\n",
       "      <th></th>\n",
       "      <th></th>\n",
       "      <th></th>\n",
       "    </tr>\n",
       "  </thead>\n",
       "  <tbody>\n",
       "    <tr>\n",
       "      <th>FutureAdvisor</th>\n",
       "      <td>8.66</td>\n",
       "      <td>14.20</td>\n",
       "      <td>0.50</td>\n",
       "      <td>1.00</td>\n",
       "      <td>0.574648</td>\n",
       "    </tr>\n",
       "    <tr>\n",
       "      <th>Schwab</th>\n",
       "      <td>16.68</td>\n",
       "      <td>4.24</td>\n",
       "      <td>0.00</td>\n",
       "      <td>12.40</td>\n",
       "      <td>3.933962</td>\n",
       "    </tr>\n",
       "    <tr>\n",
       "      <th>Wealthfront</th>\n",
       "      <td>8.06</td>\n",
       "      <td>11.91</td>\n",
       "      <td>0.25</td>\n",
       "      <td>4.70</td>\n",
       "      <td>0.655751</td>\n",
       "    </tr>\n",
       "    <tr>\n",
       "      <th>Betterment</th>\n",
       "      <td>16.15</td>\n",
       "      <td>3.87</td>\n",
       "      <td>0.25</td>\n",
       "      <td>7.00</td>\n",
       "      <td>4.108527</td>\n",
       "    </tr>\n",
       "    <tr>\n",
       "      <th>Vanguard</th>\n",
       "      <td>16.10</td>\n",
       "      <td>3.77</td>\n",
       "      <td>0.30</td>\n",
       "      <td>51.00</td>\n",
       "      <td>4.190981</td>\n",
       "    </tr>\n",
       "    <tr>\n",
       "      <th>Personal Capital</th>\n",
       "      <td>13.97</td>\n",
       "      <td>4.32</td>\n",
       "      <td>0.70</td>\n",
       "      <td>2.90</td>\n",
       "      <td>3.071759</td>\n",
       "    </tr>\n",
       "    <tr>\n",
       "      <th>Acorns</th>\n",
       "      <td>13.72</td>\n",
       "      <td>5.34</td>\n",
       "      <td>0.25</td>\n",
       "      <td>0.26</td>\n",
       "      <td>2.522472</td>\n",
       "    </tr>\n",
       "    <tr>\n",
       "      <th>SigFig</th>\n",
       "      <td>16.99</td>\n",
       "      <td>4.19</td>\n",
       "      <td>0.25</td>\n",
       "      <td>0.12</td>\n",
       "      <td>3.995227</td>\n",
       "    </tr>\n",
       "    <tr>\n",
       "      <th>WiseBanyan</th>\n",
       "      <td>15.64</td>\n",
       "      <td>4.06</td>\n",
       "      <td>0.00</td>\n",
       "      <td>101.00</td>\n",
       "      <td>3.852217</td>\n",
       "    </tr>\n",
       "  </tbody>\n",
       "</table>\n",
       "</div>"
      ],
      "text/plain": [
       "                  Return (%)  Standard dev (%)  Management fee (%)  \\\n",
       "Robo-advisor                                                         \n",
       "FutureAdvisor           8.66             14.20                0.50   \n",
       "Schwab                 16.68              4.24                0.00   \n",
       "Wealthfront             8.06             11.91                0.25   \n",
       "Betterment             16.15              3.87                0.25   \n",
       "Vanguard               16.10              3.77                0.30   \n",
       "Personal Capital       13.97              4.32                0.70   \n",
       "Acorns                 13.72              5.34                0.25   \n",
       "SigFig                 16.99              4.19                0.25   \n",
       "WiseBanyan             15.64              4.06                0.00   \n",
       "\n",
       "                  AUM ($ billions)  Net risk-adjusted return  \n",
       "Robo-advisor                                                  \n",
       "FutureAdvisor                 1.00                  0.574648  \n",
       "Schwab                       12.40                  3.933962  \n",
       "Wealthfront                   4.70                  0.655751  \n",
       "Betterment                    7.00                  4.108527  \n",
       "Vanguard                     51.00                  4.190981  \n",
       "Personal Capital              2.90                  3.071759  \n",
       "Acorns                        0.26                  2.522472  \n",
       "SigFig                        0.12                  3.995227  \n",
       "WiseBanyan                  101.00                  3.852217  "
      ]
     },
     "execution_count": 9,
     "metadata": {},
     "output_type": "execute_result"
    }
   ],
   "source": [
    "data"
   ]
  },
  {
   "cell_type": "markdown",
   "metadata": {},
   "source": [
    "**Step 3**"
   ]
  },
  {
   "cell_type": "code",
   "execution_count": 4,
   "metadata": {},
   "outputs": [
    {
     "data": {
      "text/plain": [
       "Robo-advisor\n",
       "FutureAdvisor       0.574648\n",
       "Schwab              3.933962\n",
       "Wealthfront         0.655751\n",
       "Betterment          4.108527\n",
       "Vanguard            4.190981\n",
       "Personal Capital    3.071759\n",
       "Acorns              2.522472\n",
       "SigFig              3.995227\n",
       "WiseBanyan          3.852217\n",
       "Name: Net risk-adjusted return, dtype: float64"
      ]
     },
     "execution_count": 4,
     "metadata": {},
     "output_type": "execute_result"
    }
   ],
   "source": [
    "# Calculate the net risk-adjusted return of each robo-advisor\n",
    "# profit/risk\n",
    "\n",
    "data['Net risk-adjusted return'] = (data['Return (%)'] - data['Management fee (%)'])/ data['Standard dev (%)']\n",
    "data['Net risk-adjusted return']"
   ]
  },
  {
   "cell_type": "markdown",
   "metadata": {},
   "source": [
    "**Step 4**"
   ]
  },
  {
   "cell_type": "code",
   "execution_count": 5,
   "metadata": {},
   "outputs": [],
   "source": [
    "# Using the net risk-adjusted return variable, calculate its bottom and top deciles, average and median\n",
    "\n",
    "var = data['Net risk-adjusted return']\n",
    "top_docile = np.percentile(var, np.arange(0,100,10))[9]\n",
    "bottom_docile = np.percentile(var, np.arange(0,100,10))[1]\n",
    "average = var.mean()\n",
    "median = var.median()"
   ]
  },
  {
   "cell_type": "code",
   "execution_count": 7,
   "metadata": {},
   "outputs": [
    {
     "data": {
      "image/png": "[encoded data removed]",
      "text/plain": [
       "<matplotlib.figure.Figure at 0x19d8341a128>"
      ]
     },
     "metadata": {
      "needs_background": "light"
     },
     "output_type": "display_data"
    }
   ],
   "source": [
    "# Scatter plot of the four metrics calculated previously\n",
    "\n",
    "xlabels = ['bottom_decile','median', 'average', 'top_decile']\n",
    "yvalues = [bottom_docile, median, average, top_docile]\n",
    "plt.scatter(xlabels, yvalues)\n",
    "plt.show()"
   ]
  },
  {
   "cell_type": "markdown",
   "metadata": {},
   "source": [
    "**Step 5**"
   ]
  },
  {
   "cell_type": "code",
   "execution_count": 9,
   "metadata": {},
   "outputs": [],
   "source": [
    "# Calculate the bottom and top deciles, mean and median of the AUM variable\n",
    "\n",
    "var = data['AUM ($ billions)']\n",
    "top_docile_AUM = np.percentile(var, np.arange(0,100,10))[9]\n",
    "bottom_docile_AUM = np.percentile(var, np.arange(0,100,10))[1]\n",
    "average_AUM = var.mean()\n",
    "median_AUM = var.median()"
   ]
  },
  {
   "cell_type": "code",
   "execution_count": 10,
   "metadata": {},
   "outputs": [
    {
     "data": {
      "image/png": "[encoded data removed]",
      "text/plain": [
       "<matplotlib.figure.Figure at 0x19d8648b160>"
      ]
     },
     "metadata": {
      "needs_background": "light"
     },
     "output_type": "display_data"
    }
   ],
   "source": [
    "# Plot the bottom and top deciles, mean and average of the net risk-adjusted return against the equivalent AUM, calculated above\n",
    "\n",
    "xlabels = ['bottom_decile','median', 'average', 'top_decile']\n",
    "yvalues = [bottom_docile/bottom_docile_AUM, median/median_AUM, average/average_AUM, top_docile/top_docile_AUM]\n",
    "plt.scatter(xlabels, yvalues)\n",
    "plt.show()"
   ]
  },
  {
   "cell_type": "markdown",
   "metadata": {},
   "source": [
    "The end:)"
   ]
  }
 ],
 "metadata": {
  "kernelspec": {
   "display_name": "Python 3",
   "language": "python",
   "name": "python3"
  },
  "language_info": {
   "codemirror_mode": {
    "name": "ipython",
    "version": 3
   },
   "file_extension": ".py",
   "mimetype": "text/x-python",
   "name": "python",
   "nbconvert_exporter": "python",
   "pygments_lexer": "ipython3",
   "version": "3.6.4"
  }
 },
 "nbformat": 4,
 "nbformat_minor": 2
}
